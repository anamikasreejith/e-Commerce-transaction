{
 "cells": [
  {
   "cell_type": "code",
   "execution_count": 10,
   "id": "e1261a29",
   "metadata": {},
   "outputs": [],
   "source": [
    "import pandas as pd\n",
    "import numpy as np\n",
    "from sklearn.preprocessing import StandardScaler\n",
    "from sklearn.decomposition import PCA\n",
    "from sklearn.metrics.pairwise import cosine_similarity\n",
    "from sklearn.preprocessing import MinMaxScaler\n"
   ]
  },
  {
   "cell_type": "code",
   "execution_count": 12,
   "id": "2e254dc8",
   "metadata": {},
   "outputs": [],
   "source": [
    "customers_df=pd.read_csv(\"C:/Users/Anamika/Downloads/Customers.csv\")\n",
    "transactions_df=pd.read_csv(\"C:/Users/Anamika/Downloads/Transactions.csv\")"
   ]
  },
  {
   "cell_type": "code",
   "execution_count": 20,
   "id": "ac639595",
   "metadata": {},
   "outputs": [],
   "source": [
    "transactions_products = pd.merge(transactions, products, on='ProductID', how='left')\n",
    "merged_data = pd.merge(transactions_products, customers, on='CustomerID', how='left')"
   ]
  },
  {
   "cell_type": "code",
   "execution_count": 22,
   "id": "f289ba5a",
   "metadata": {},
   "outputs": [],
   "source": [
    "customer_features = merged_data.groupby('CustomerID').agg({\n",
    "    'Quantity': 'sum',          # Total quantity purchased\n",
    "    'TotalValue': 'sum',        # Total transaction value            \n",
    "    'Region': 'first',          # Customer's region\n",
    "    'Category': lambda x: ','.join(x.unique())  # Purchased product categories\n",
    "}).reset_index()"
   ]
  },
  {
   "cell_type": "code",
   "execution_count": 23,
   "id": "315abe3b",
   "metadata": {},
   "outputs": [],
   "source": [
    "customer_features = pd.get_dummies(customer_features, columns=['Region'], drop_first=True)"
   ]
  },
  {
   "cell_type": "code",
   "execution_count": 24,
   "id": "a35d47bb",
   "metadata": {},
   "outputs": [],
   "source": [
    "for category in products['Category'].unique():\n",
    "    customer_features[category] = customer_features['Category'].apply(lambda x: 1 if category in x else 0)\n",
    "customer_features.drop(columns=['Category'], inplace=True)"
   ]
  },
  {
   "cell_type": "code",
   "execution_count": 25,
   "id": "01837b0a",
   "metadata": {},
   "outputs": [],
   "source": [
    "scaler = MinMaxScaler()\n",
    "numeric_cols = ['Quantity', 'TotalValue']\n",
    "customer_features[numeric_cols] = scaler.fit_transform(customer_features[numeric_cols])"
   ]
  },
  {
   "cell_type": "code",
   "execution_count": 26,
   "id": "c557d51f",
   "metadata": {},
   "outputs": [],
   "source": [
    "features = customer_features.drop(columns=['CustomerID']).values\n",
    "customer_ids = customer_features['CustomerID'].tolist()"
   ]
  },
  {
   "cell_type": "code",
   "execution_count": 27,
   "id": "cac91573",
   "metadata": {},
   "outputs": [],
   "source": [
    "def get_similar_customers(customer_id, top_n=3):\n",
    "    # Find the index of the customer in the dataset\n",
    "    idx = customer_ids.index(customer_id)\n",
    "    # Calculate cosine similarity with all other customers\n",
    "    similarity_scores = cosine_similarity([features[idx]], features)[0]\n",
    "    # Get top N most similar customers (exclude self)\n",
    "    similar_customers = sorted(\n",
    "        [(customer_ids[i], similarity_scores[i]) for i in range(len(similarity_scores)) if i != idx],\n",
    "        key=lambda x: x[1], reverse=True\n",
    "    )[:top_n]\n",
    "    return similar_customers"
   ]
  },
  {
   "cell_type": "code",
   "execution_count": 28,
   "id": "ac23456e",
   "metadata": {},
   "outputs": [
    {
     "name": "stdout",
     "output_type": "stream",
     "text": [
      "Top 3 similar customers for C0001: [('C0174', 0.999777842455864), ('C0152', 0.9995148187663395), ('C0085', 0.9963755199349082)]\n"
     ]
    }
   ],
   "source": [
    "customer_id = 'C0001'\n",
    "top_3_recommendations = get_similar_customers(customer_id)\n",
    "print(f\"Top 3 similar customers for {customer_id}: {top_3_recommendations}\")"
   ]
  },
  {
   "cell_type": "code",
   "execution_count": 29,
   "id": "b7939272",
   "metadata": {},
   "outputs": [],
   "source": [
    "# Calculate similarity for the first 20 customers\n",
    "lookalike_map = {}\n",
    "for idx in range(20):  # For first 20 customers\n",
    "    customer_id = customer_ids[idx]\n",
    "    # Compute similarity scores\n",
    "    similarity_scores = cosine_similarity([features[idx]], features)[0]\n",
    "    # Get top 3 similar customers (excluding self)\n",
    "    top_3 = sorted(\n",
    "        [(customer_ids[i], round(similarity_scores[i], 2)) for i in range(len(similarity_scores)) if i != idx],\n",
    "        key=lambda x: x[1], reverse=True\n",
    "    )[:3]\n",
    "    lookalike_map[customer_id] = top_3"
   ]
  },
  {
   "cell_type": "code",
   "execution_count": 30,
   "id": "5bc2f1a3",
   "metadata": {},
   "outputs": [],
   "source": [
    "lookalike_df = pd.DataFrame({\n",
    "    'CustomerID': list(lookalike_map.keys()),\n",
    "    'Lookalikes': [str(val) for val in lookalike_map.values()]\n",
    "})\n",
    "\n",
    "lookalike_df.to_csv('Lookalike.csv', index=False)"
   ]
  },
  {
   "cell_type": "code",
   "execution_count": 31,
   "id": "7ae468d1",
   "metadata": {},
   "outputs": [
    {
     "name": "stdout",
     "output_type": "stream",
     "text": [
      "Lookalike.csv created with recommendations for the first 20 customers.\n",
      "  CustomerID                                         Lookalikes\n",
      "0      C0001   [('C0085', 1.0), ('C0152', 1.0), ('C0174', 1.0)]\n",
      "1      C0002  [('C0159', 1.0), ('C0134', 0.99), ('C0106', 0....\n",
      "2      C0003   [('C0031', 1.0), ('C0091', 1.0), ('C0129', 1.0)]\n",
      "3      C0004  [('C0012', 1.0), ('C0148', 1.0), ('C0001', 0.98)]\n",
      "4      C0005  [('C0007', 1.0), ('C0140', 1.0), ('C0069', 0.82)]\n"
     ]
    }
   ],
   "source": [
    "# Display the recommendations\n",
    "print(\"Lookalike.csv created with recommendations for the first 20 customers.\")\n",
    "print(lookalike_df.head())"
   ]
  },
  {
   "cell_type": "code",
   "execution_count": 4,
   "id": "9511f477",
   "metadata": {},
   "outputs": [
    {
     "ename": "SyntaxError",
     "evalue": "invalid syntax. Perhaps you forgot a comma? (60614460.py, line 4)",
     "output_type": "error",
     "traceback": [
      "\u001b[1;36m  Cell \u001b[1;32mIn[4], line 4\u001b[1;36m\u001b[0m\n\u001b[1;33m    CustomerID                                         Lookalikes\u001b[0m\n\u001b[1;37m    ^\u001b[0m\n\u001b[1;31mSyntaxError\u001b[0m\u001b[1;31m:\u001b[0m invalid syntax. Perhaps you forgot a comma?\n"
     ]
    }
   ],
   "source": [
    "import csv\n",
    "\n",
    "data=[\n",
    "  CustomerID                                         Lookalikes\n",
    "0      C0001   [('C0085', 1.0), ('C0152', 1.0), ('C0174', 1.0)],\n",
    "1      C0002  [('C0159', 1.0), ('C0134', 0.99), ('C0106', 0....,\n",
    "2      C0003   [('C0031', 1.0), ('C0091', 1.0), ('C0129', 1.0)],\n",
    "3      C0004  [('C0012', 1.0), ('C0148', 1.0), ('C0001', 0.98)],\n",
    "4      C0005  [('C0007', 1.0), ('C0140', 1.0), ('C0069', 0.82)]\n",
    "                                                                                                  \n",
    "# Specify the file name\n",
    "file_name = \"Anamika_PM_Lookalike.csv\"\n",
    "\n",
    "# Write data to the CSV file\n",
    "with open(file_name, mode=\"w\", newline=\"\") as file:\n",
    "    writer = csv.writer(file)\n",
    "    writer.writerows(data)\n",
    "\n",
    "print(f\"CSV file '{file_name}' created successfully.\")\n"
   ]
  },
  {
   "cell_type": "code",
   "execution_count": null,
   "id": "207142d2",
   "metadata": {},
   "outputs": [],
   "source": []
  }
 ],
 "metadata": {
  "kernelspec": {
   "display_name": "Python 3 (ipykernel)",
   "language": "python",
   "name": "python3"
  },
  "language_info": {
   "codemirror_mode": {
    "name": "ipython",
    "version": 3
   },
   "file_extension": ".py",
   "mimetype": "text/x-python",
   "name": "python",
   "nbconvert_exporter": "python",
   "pygments_lexer": "ipython3",
   "version": "3.11.5"
  }
 },
 "nbformat": 4,
 "nbformat_minor": 5
}
